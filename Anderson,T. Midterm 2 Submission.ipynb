{
 "cells": [
  {
   "cell_type": "markdown",
   "id": "817470b9",
   "metadata": {},
   "source": [
    "# Midterm 2 coding Questions Total : 60 \n",
    "### 50 minute\n",
    "### Name- Tess Anderson\n",
    "After complition submit it on Moodle using `GitHub` with in the assigned time \n"
   ]
  },
  {
   "cell_type": "markdown",
   "id": "8d611a3d",
   "metadata": {},
   "source": [
    "### Question 1. Print all of the numbers between 1 to 10 and square each numbers and append those to a new list\n",
    "- 5 points"
   ]
  },
  {
   "cell_type": "code",
   "execution_count": 85,
   "id": "d539c611",
   "metadata": {},
   "outputs": [
    {
     "data": {
      "text/plain": [
       "[1, 4, 9, 16, 25, 36, 49, 64, 81, 100]"
      ]
     },
     "execution_count": 85,
     "metadata": {},
     "output_type": "execute_result"
    }
   ],
   "source": [
    "newlist=[]\n",
    "for i in range(1,11):\n",
    "    newlist.append(i**2)\n",
    "newlist"
   ]
  },
  {
   "cell_type": "markdown",
   "id": "8ef2873c",
   "metadata": {},
   "source": [
    "### Question 2. Create a list of 10 random numbers and find out minimum , maximum and total of teh list.\n",
    "* 5 + 3 = 8 points"
   ]
  },
  {
   "cell_type": "code",
   "execution_count": 86,
   "id": "45e5ee75",
   "metadata": {},
   "outputs": [
    {
     "data": {
      "text/plain": [
       "[82, 57, 95, 57, 77, 18, 96, 68, 93, 14]"
      ]
     },
     "execution_count": 86,
     "metadata": {},
     "output_type": "execute_result"
    }
   ],
   "source": [
    "import random\n",
    "randlist=[]\n",
    "for i in range(1,11):\n",
    "    randlist.append(random.randint(1,100))\n",
    "randlist"
   ]
  },
  {
   "cell_type": "code",
   "execution_count": 87,
   "id": "e069f7c9",
   "metadata": {},
   "outputs": [
    {
     "name": "stdout",
     "output_type": "stream",
     "text": [
      "The smallest value in the list is 14.\n"
     ]
    }
   ],
   "source": [
    "print(f\"The smallest value in the list is {min(randlist)}.\")"
   ]
  },
  {
   "cell_type": "code",
   "execution_count": 88,
   "id": "f7bc87d8",
   "metadata": {},
   "outputs": [
    {
     "name": "stdout",
     "output_type": "stream",
     "text": [
      "The largest value in the list is 96.\n"
     ]
    }
   ],
   "source": [
    "print(f\"The largest value in the list is {max(randlist)}.\")"
   ]
  },
  {
   "cell_type": "code",
   "execution_count": 89,
   "id": "e56a0c46",
   "metadata": {},
   "outputs": [
    {
     "name": "stdout",
     "output_type": "stream",
     "text": [
      "The total of all values in the list is 657.\n"
     ]
    }
   ],
   "source": [
    "print(f\"The total of all values in the list is {sum(randlist)}.\")"
   ]
  },
  {
   "cell_type": "markdown",
   "id": "2ebd3676",
   "metadata": {},
   "source": [
    "### Question 3. Print `day` and `300` from the new_list\n",
    "new_list= [10, ['new', 300, [[3.141, 20],  345 ]], 'day' ]\n",
    "* 3 + 3 = 6 points"
   ]
  },
  {
   "cell_type": "code",
   "execution_count": 90,
   "id": "6a656b2c",
   "metadata": {},
   "outputs": [],
   "source": [
    "new_list= [10, ['new', 300, [[3.141, 20], 345 ]], 'day' ]"
   ]
  },
  {
   "cell_type": "code",
   "execution_count": 91,
   "id": "46f163c1",
   "metadata": {},
   "outputs": [
    {
     "data": {
      "text/plain": [
       "'day'"
      ]
     },
     "execution_count": 91,
     "metadata": {},
     "output_type": "execute_result"
    }
   ],
   "source": [
    "new_list[2]"
   ]
  },
  {
   "cell_type": "code",
   "execution_count": 92,
   "id": "8176ca08",
   "metadata": {},
   "outputs": [
    {
     "data": {
      "text/plain": [
       "300"
      ]
     },
     "execution_count": 92,
     "metadata": {},
     "output_type": "execute_result"
    }
   ],
   "source": [
    "new_list[1][1]"
   ]
  },
  {
   "cell_type": "markdown",
   "id": "68fd8f82",
   "metadata": {},
   "source": [
    "### Question 4.  College=(\"Bellarmine\", \"2001 Neuburg RD\")\n",
    "Print the `name` of the College.\n",
    "* 5 points"
   ]
  },
  {
   "cell_type": "code",
   "execution_count": 93,
   "id": "a56eca6f",
   "metadata": {},
   "outputs": [
    {
     "name": "stdout",
     "output_type": "stream",
     "text": [
      "Bellarmine\n"
     ]
    }
   ],
   "source": [
    "College=(\"Bellarmine\", \"2001 Neuburg RD\")\n",
    "name,year=College\n",
    "print(name)"
   ]
  },
  {
   "cell_type": "markdown",
   "id": "3468dc38",
   "metadata": {},
   "source": [
    "### Question 5. In the United States as of 1995, minor is generally legally defined as a person under the age of 18. Write a code to check a student is minor or not. Verify the code by user input\n",
    "* 6 points"
   ]
  },
  {
   "cell_type": "code",
   "execution_count": 94,
   "id": "efebbcfd",
   "metadata": {},
   "outputs": [
    {
     "name": "stdout",
     "output_type": "stream",
     "text": [
      "Enter your age. 25\n",
      "The student is not a minor.\n"
     ]
    }
   ],
   "source": [
    "age=int(input(\"Enter your age. \"))\n",
    "if age<18:\n",
    "    print(\"The student is a minor.\")\n",
    "else:\n",
    "    print(\"The student is not a minor.\")"
   ]
  },
  {
   "cell_type": "markdown",
   "id": "f84b9ccd",
   "metadata": {},
   "source": [
    "### Question 6. Get an input from user and check whether the number is `odd` and `greater than 10`. If not then comment\n",
    "* 5 points"
   ]
  },
  {
   "cell_type": "code",
   "execution_count": 31,
   "id": "1c59673a",
   "metadata": {},
   "outputs": [
    {
     "name": "stdout",
     "output_type": "stream",
     "text": [
      "Enter a number. 10\n",
      "This number is equal to 10.\n"
     ]
    }
   ],
   "source": [
    "num=int(input(\"Enter a number. \"))\n",
    "if num%2==0 and num<10:\n",
    "    print(\"This number is even and less than 10.\")\n",
    "elif num%2!=0 and num>10:\n",
    "    print(\"This number is odd and greater than  10.\")\n",
    "elif num%2!=0 and num<10:\n",
    "    print(\"This number is odd and less than 10.\")\n",
    "elif num==10:\n",
    "    print(\"This number is equal to 10.\")\n",
    "else:\n",
    "    print(\"This number is even and is greater than 10.\")"
   ]
  },
  {
   "cell_type": "code",
   "execution_count": 98,
   "id": "b8ba1322",
   "metadata": {},
   "outputs": [
    {
     "name": "stdout",
     "output_type": "stream",
     "text": [
      "Enter a number. 9\n",
      "This odd number is less than or equal to 10.\n"
     ]
    }
   ],
   "source": [
    "num=int(input(\"Enter a number. \"))\n",
    "#check if the number is odd.\n",
    "if num%2!=0: #the number is odd\n",
    "    if num>10:\n",
    "        print(\"The number is odd and greater than 10.\")\n",
    "    else:\n",
    "        print(\"This odd number is less than or equal to 10.\")\n",
    "else:\n",
    "    print(\"The number is even. \")"
   ]
  },
  {
   "cell_type": "markdown",
   "id": "45951768",
   "metadata": {},
   "source": [
    "### Question 7. Get a user input and check the given number is multiple of 11 or not\n",
    "* 5 points"
   ]
  },
  {
   "cell_type": "code",
   "execution_count": 35,
   "id": "39bc4fb6",
   "metadata": {},
   "outputs": [
    {
     "name": "stdout",
     "output_type": "stream",
     "text": [
      "Enter a number! 22\n",
      "The number is a multiple of 11.\n"
     ]
    }
   ],
   "source": [
    "num11=int(input(\"Enter a number! \"))\n",
    "if num11%11==0:\n",
    "    print(\"The number is a multiple of 11.\")\n",
    "else:\n",
    "    print(\"The number is not a multiple of 11.\")"
   ]
  },
  {
   "cell_type": "markdown",
   "id": "a0763abf",
   "metadata": {},
   "source": [
    "### Question 8. Convert the lists to dictionary\n",
    "* keys =  [10, 20, 30]\n",
    "* values =['Ten', 'Twenty', 'Thirty']\n",
    "* 4 points"
   ]
  },
  {
   "cell_type": "code",
   "execution_count": 39,
   "id": "e62f4e7c",
   "metadata": {},
   "outputs": [
    {
     "data": {
      "text/plain": [
       "{10: 'Ten', 20: 'Twenty', 30: 'Thirty'}"
      ]
     },
     "execution_count": 39,
     "metadata": {},
     "output_type": "execute_result"
    }
   ],
   "source": [
    "keys = [10, 20, 30]\n",
    "values =['Ten', 'Twenty', 'Thirty']\n",
    "zippedDict=dict(zip(keys,values))\n",
    "zippedDict"
   ]
  },
  {
   "cell_type": "markdown",
   "id": "c2784d84",
   "metadata": {},
   "source": [
    "### Question 9. Write a function that can take `any arbitary numbers` as inputs and calculate the maximum of them. Check the function for two sets of inputs.\n",
    "* 2+2 points"
   ]
  },
  {
   "cell_type": "code",
   "execution_count": 99,
   "id": "f5654b0e",
   "metadata": {},
   "outputs": [],
   "source": [
    "def maximize(a,b):\n",
    "    if a>b:\n",
    "        return f\"The first number ({a}) is the largest.\"\n",
    "    if a<b:\n",
    "        return f\"The second number ({b}) is the largest.\"\n",
    "    else:\n",
    "        return f\"The values are equal.\""
   ]
  },
  {
   "cell_type": "code",
   "execution_count": 100,
   "id": "327224c2",
   "metadata": {},
   "outputs": [
    {
     "data": {
      "text/plain": [
       "'The second number (42) is the largest.'"
      ]
     },
     "execution_count": 100,
     "metadata": {},
     "output_type": "execute_result"
    }
   ],
   "source": [
    "maximize(24,42)"
   ]
  },
  {
   "cell_type": "code",
   "execution_count": 101,
   "id": "4f4eaf92",
   "metadata": {},
   "outputs": [
    {
     "data": {
      "text/plain": [
       "'The values are equal.'"
      ]
     },
     "execution_count": 101,
     "metadata": {},
     "output_type": "execute_result"
    }
   ],
   "source": [
    "maximize(50,50)"
   ]
  },
  {
   "cell_type": "markdown",
   "id": "c108c295",
   "metadata": {},
   "source": [
    "### Question 10. Write functions to find out Area and Perimeter of a square. Check the result for side = 10.\n",
    "\n",
    "* 3+3 points\n"
   ]
  },
  {
   "cell_type": "code",
   "execution_count": 102,
   "id": "5fedc6aa",
   "metadata": {},
   "outputs": [
    {
     "data": {
      "text/plain": [
       "'The area is equal to 100.'"
      ]
     },
     "execution_count": 102,
     "metadata": {},
     "output_type": "execute_result"
    }
   ],
   "source": [
    "def area(side):\n",
    "    return f\"The area is equal to {side**2}.\"\n",
    "def perim(side):\n",
    "    return f\"The perimeter is equal to {side*4}.\"\n",
    "area(10)"
   ]
  },
  {
   "cell_type": "code",
   "execution_count": 103,
   "id": "a1ad705a",
   "metadata": {},
   "outputs": [
    {
     "data": {
      "text/plain": [
       "'The perimeter is equal to 40.'"
      ]
     },
     "execution_count": 103,
     "metadata": {},
     "output_type": "execute_result"
    }
   ],
   "source": [
    "perim(10)"
   ]
  },
  {
   "cell_type": "markdown",
   "id": "a187f917",
   "metadata": {},
   "source": [
    "### Question 11. Write down two program using while and for loop that prints all of the number from 10 to 20 (included) \n",
    "* 3+3 points"
   ]
  },
  {
   "cell_type": "code",
   "execution_count": 104,
   "id": "5afcef79",
   "metadata": {},
   "outputs": [
    {
     "name": "stdout",
     "output_type": "stream",
     "text": [
      "10 11 12 13 14 15 16 17 18 19 20 "
     ]
    }
   ],
   "source": [
    "for i in range(10,21):\n",
    "    print(i, end=' ')"
   ]
  },
  {
   "cell_type": "code",
   "execution_count": 105,
   "id": "53d23067",
   "metadata": {},
   "outputs": [
    {
     "name": "stdout",
     "output_type": "stream",
     "text": [
      "10 11 12 13 14 15 16 17 18 19 20 "
     ]
    }
   ],
   "source": [
    "i=10\n",
    "while i<=20:\n",
    "    print(i, end=' ')\n",
    "    i+=1 "
   ]
  }
 ],
 "metadata": {
  "kernelspec": {
   "display_name": "Python 3 (ipykernel)",
   "language": "python",
   "name": "python3"
  },
  "language_info": {
   "codemirror_mode": {
    "name": "ipython",
    "version": 3
   },
   "file_extension": ".py",
   "mimetype": "text/x-python",
   "name": "python",
   "nbconvert_exporter": "python",
   "pygments_lexer": "ipython3",
   "version": "3.9.13"
  }
 },
 "nbformat": 4,
 "nbformat_minor": 5
}
